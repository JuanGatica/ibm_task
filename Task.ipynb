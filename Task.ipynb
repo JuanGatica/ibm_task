{
 "cells": [
  {
   "cell_type": "markdown",
   "id": "ae94d7a0",
   "metadata": {},
   "source": [
    "# \"My Jupyter Notebook on IBM Watson Studio\" "
   ]
  },
  {
   "cell_type": "markdown",
   "id": "e2295a13",
   "metadata": {},
   "source": [
    "**Juan Gatica**"
   ]
  },
  {
   "cell_type": "markdown",
   "id": "38d315df",
   "metadata": {},
   "source": [
    "Engineer"
   ]
  },
  {
   "cell_type": "markdown",
   "id": "adafb217",
   "metadata": {},
   "source": [
    "*I am interested in data science because allows decisions to be made on a scientific basis. Aligning different interest groups: commercial, operations, marketing, etc.*"
   ]
  },
  {
   "cell_type": "markdown",
   "id": "f46a6f4b",
   "metadata": {},
   "source": [
    "## The following formula gives the successor of a number"
   ]
  },
  {
   "cell_type": "code",
   "execution_count": 4,
   "id": "74aab31c",
   "metadata": {},
   "outputs": [
    {
     "name": "stdout",
     "output_type": "stream",
     "text": [
      "succesor:6\n"
     ]
    }
   ],
   "source": [
    "def successor(n):\n",
    "    return print(\"succesor:\"+str(n+1))\n",
    "\n",
    "successor(5)"
   ]
  },
  {
   "cell_type": "markdown",
   "id": "3ff2b5f1",
   "metadata": {},
   "source": [
    "<hr>\n",
    "<h4>List Example<h4>\n",
    "<ul>\n",
    "  <li>First</li>\n",
    "  <li>Second</li>\n",
    "  <li>Third</li>\n",
    "</ul>\n",
    "    \n",
    "<hr>  \n",
    "<h4>Table Example<h4>\n",
    "<table class=\"default\">\n",
    "\n",
    "    \n",
    "  <tr>\n",
    "    <th>Name1</th>\n",
    "    <th>Name2</th>\n",
    "    <th>Name3</th>\n",
    "  </tr>\n",
    "    \n",
    "  <tr>\n",
    "    <td>Cell 1</td>\n",
    "    <td>Cell 2</td>\n",
    "    <td>Cell 3</td>\n",
    "  </tr>\n",
    "    \n",
    "  <tr>\n",
    "    <td>Cell 4</td>\n",
    "    <td>Cell 5</td>\n",
    "    <td>Cell 6</td>\n",
    "    </tr>\n",
    "\n",
    "</table>\n",
    "<hr>   "
   ]
  },
  {
   "cell_type": "code",
   "execution_count": null,
   "id": "0e3cb376",
   "metadata": {},
   "outputs": [],
   "source": []
  }
 ],
 "metadata": {
  "kernelspec": {
   "display_name": "Python 3 (ipykernel)",
   "language": "python",
   "name": "python3"
  },
  "language_info": {
   "codemirror_mode": {
    "name": "ipython",
    "version": 3
   },
   "file_extension": ".py",
   "mimetype": "text/x-python",
   "name": "python",
   "nbconvert_exporter": "python",
   "pygments_lexer": "ipython3",
   "version": "3.9.7"
  }
 },
 "nbformat": 4,
 "nbformat_minor": 5
}
